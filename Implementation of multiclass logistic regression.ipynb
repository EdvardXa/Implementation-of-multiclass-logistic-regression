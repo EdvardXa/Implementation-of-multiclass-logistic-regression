{
 "cells": [
  {
   "cell_type": "markdown",
   "id": "5bd86f85",
   "metadata": {
    "id": "5bd86f85"
   },
   "source": [
    "# <center> Логистическая регрессия"
   ]
  },
  {
   "cell_type": "markdown",
   "id": "d378f30a",
   "metadata": {
    "id": "d378f30a"
   },
   "source": [
    "## Создание данных"
   ]
  },
  {
   "cell_type": "code",
   "execution_count": 1,
   "id": "0bfb0eb6",
   "metadata": {
    "id": "0bfb0eb6"
   },
   "outputs": [],
   "source": [
    "from sklearn import datasets\n",
    "import matplotlib.pyplot as plt\n",
    "from sklearn.model_selection import train_test_split\n",
    "import numpy as np\n",
    "import random\n",
    "import warnings\n",
    "warnings.filterwarnings('ignore')"
   ]
  },
  {
   "cell_type": "code",
   "execution_count": 2,
   "id": "b14071b6",
   "metadata": {
    "id": "b14071b6"
   },
   "outputs": [],
   "source": [
    "cluster_len = 50\n",
    "\n",
    "X1 = np.random.multivariate_normal([0, 0], [[2, 0], [0, 2]], size=cluster_len)\n",
    "y1 = np.zeros(len(X1))\n",
    "\n",
    "X2 = np.random.multivariate_normal([4, 4], [[2, 0], [0, 2]], size=cluster_len)\n",
    "y2 = np.ones(len(X2))\n",
    "\n",
    "X3 = np.random.multivariate_normal([4, -4], [[2, 0], [0, 2]], size=cluster_len)\n",
    "y3 = np.ones(len(X3)) * 2\n",
    "\n",
    "X = np.concatenate((X1, X2, X3), axis=0)\n",
    "y = np.concatenate((y1, y2, y3), axis=0)\n",
    "\n",
    "Z = list(zip(X, y))\n",
    "random.shuffle(Z)\n",
    "X, y = zip(*Z)\n",
    "X = np.array(X)\n",
    "y = np.array(y)"
   ]
  },
  {
   "cell_type": "markdown",
   "id": "e5246308",
   "metadata": {
    "id": "e5246308"
   },
   "source": [
    "Визуализируем наши данные"
   ]
  },
  {
   "cell_type": "code",
   "execution_count": 3,
   "id": "a7a23e89",
   "metadata": {
    "id": "a7a23e89",
    "outputId": "7a4447a7-1e8a-4674-9f48-7cf82cf06c4a"
   },
   "outputs": [
    {
     "data": {
      "image/png": "[encoded data removed]",
      "text/plain": [
       "<Figure size 432x288 with 1 Axes>"
      ]
     },
     "metadata": {
      "needs_background": "light"
     },
     "output_type": "display_data"
    }
   ],
   "source": [
    "plt.plot(X[:, 0][y==0], X[:, 1][y==0], 'ob')\n",
    "plt.plot(X[:, 0][y==1], X[:, 1][y==1], 'or')\n",
    "plt.plot(X[:, 0][y==2], X[:, 1][y==2], 'og')\n",
    "# plt.xlim([-5, 9])\n",
    "# plt.ylim([-5, 9])\n",
    "plt.show()"
   ]
  },
  {
   "cell_type": "markdown",
   "id": "f14599db",
   "metadata": {
    "id": "f14599db"
   },
   "source": [
    "Разобьем данные на train и test"
   ]
  },
  {
   "cell_type": "code",
   "execution_count": 4,
   "id": "f2c8dc01",
   "metadata": {
    "id": "f2c8dc01"
   },
   "outputs": [],
   "source": [
    "X_train, X_test, y_train, y_test = train_test_split(X, y, test_size=0.2)"
   ]
  },
  {
   "cell_type": "markdown",
   "id": "faf56eae",
   "metadata": {
    "id": "faf56eae"
   },
   "source": [
    "## Реализация"
   ]
  },
  {
   "cell_type": "code",
   "execution_count": 5,
   "id": "faddecea",
   "metadata": {
    "id": "faddecea"
   },
   "outputs": [],
   "source": [
    "class multiclass_logistic:\n",
    "    def __init__(self, C=None):\n",
    "        self.w = None\n",
    "        X_bias = np.concatenate((X, np.ones((len(X), 1))), axis = 1)\n",
    "        if C is not None:\n",
    "            self.C = C\n",
    "        else:\n",
    "            self.C = float('inf')\n",
    "        self.L = np.zeros(2000)        \n",
    "        \n",
    "    def encoded(self, Y):\n",
    "        '''\n",
    "        Мы хотим, чтобы наша модель работала как библиотечная модель. \n",
    "        Поэтому мы хотим, чтобы целевая переменная была одномерной.\n",
    "        Но в реализации целевая переменная нам нужна в виде one-hot. \n",
    "        Именно эту операцию выполняет данная функция.\n",
    "        '''\n",
    "        content = np.unique(Y)\n",
    "        dict_one_hot = {}\n",
    "        for i in range(len(content)):\n",
    "            a = np.zeros(len(content))\n",
    "            a[i] = 1\n",
    "            dict_one_hot[content[i]] = a\n",
    "        encode = np.zeros((len(Y), len(dict_one_hot)))\n",
    "        for i in range(len(Y)):\n",
    "            encode[i] = dict_one_hot[Y[i]]\n",
    "        return encode\n",
    "        \n",
    "    def return_probs(self, X):\n",
    "        '''\n",
    "        Данная функция возвращает нам матрицу (k, m)-ый элемент которого есть вероятность того,\n",
    "        что k-ый элемент принадлежит к m-ому классу.\n",
    "        '''\n",
    "        X_bias = np.concatenate((X, np.ones((len(X), 1))), axis = 1)\n",
    "        probs = np.zeros((np.size(X_bias, 0), np.size(self.w, 1)))\n",
    "        for i in range(len(probs)):\n",
    "            probs[i] = np.exp(-np.dot(X_bias[i], self.w)) / np.sum(np.exp(-np.dot(X_bias[i], self.w)))\n",
    "        return probs\n",
    "    \n",
    "    def Loss(self, X, y):\n",
    "        '''\n",
    "        Данная функция считает ошибку.\n",
    "        '''\n",
    "        y_encoded = self.encoded(y)\n",
    "        X_bias = np.concatenate((X, np.ones((len(X), 1))), axis = 1)\n",
    "        probs = self.return_probs(X=X)\n",
    "        L = np.trace(np.dot(X_bias, np.dot(self.w, np.transpose(y_encoded))))\n",
    "        for i in range(len(X_bias)):\n",
    "            L += np.log(np.sum(np.exp(np.dot(-X_bias[i], self.w))))\n",
    "        return L\n",
    "    \n",
    "    def Grad_Loss(self, X, y):\n",
    "        '''\n",
    "        Данная функция считает градиент ошибки по матрицу весов.\n",
    "        '''\n",
    "        y_encoded = self.encoded(y)\n",
    "        X_bias = np.concatenate((X, np.ones((len(X), 1))), axis = 1)\n",
    "        return np.dot(np.transpose(X_bias), y_encoded - self.return_probs(X=X)) / len(X_bias) +  self.w / self.C / len(X_bias)\n",
    "    \n",
    "    def fit(self, X, y, lr=0.02, max_iter=1000):\n",
    "        '''\n",
    "        Данная функция отвечает за обучение модели используя обычный градиентный спуск.\n",
    "        '''\n",
    "        y_encoded = self.encoded(y)\n",
    "        if self.w is None:\n",
    "            self.w = np.random.randn(np.size(X, 1)+1, np.size(y_encoded, 1))\n",
    "        for i in range(max_iter):\n",
    "            self.w -= lr * self.Grad_Loss(X=X, y=y)\n",
    "            self.L[i] = self.Loss(X, y)\n",
    "    \n",
    "    def predict(self, X_train):\n",
    "        '''\n",
    "        Данная функция делает предсказывания.\n",
    "        '''\n",
    "        probs = self.return_probs(X=X_train)\n",
    "        y_pred = probs.argmax(axis=1)\n",
    "        return y_pred"
   ]
  },
  {
   "cell_type": "markdown",
   "id": "ff4343dc",
   "metadata": {
    "id": "ff4343dc"
   },
   "source": [
    "## Эффект регуляризации"
   ]
  },
  {
   "cell_type": "markdown",
   "id": "5f90eb2d",
   "metadata": {
    "id": "5f90eb2d"
   },
   "source": [
    "Для визуализации эффекта регуляризации изобразим зависимости ошибки от шага итерации и области решений. Также проверим что коэффициенты матрицы весов при регуляризации L2 становиться меньше."
   ]
  },
  {
   "cell_type": "code",
   "execution_count": 6,
   "id": "da4eec0f",
   "metadata": {
    "id": "da4eec0f"
   },
   "outputs": [],
   "source": [
    "#Случай без регуляризации\n",
    "logistic_casual = multiclass_logistic()\n",
    "logistic_casual.fit(X_train, y_train)\n",
    "L_casual = logistic_casual.L\n",
    "#Случай с регуляризацией\n",
    "logistic_l2 = multiclass_logistic(C=0.001)\n",
    "logistic_l2.fit(X_train, y_train)\n",
    "L_l2 = logistic_l2.L"
   ]
  },
  {
   "cell_type": "code",
   "execution_count": 7,
   "id": "4729236a",
   "metadata": {
    "id": "4729236a",
    "outputId": "fb94634b-92f3-4559-aea0-05b55408549e"
   },
   "outputs": [
    {
     "data": {
      "text/plain": [
       "[<matplotlib.lines.Line2D at 0x1b84e6cf610>]"
      ]
     },
     "execution_count": 7,
     "metadata": {},
     "output_type": "execute_result"
    },
    {
     "data": {
      "image/png": "[encoded data removed]",
      "text/plain": [
       "<Figure size 1080x432 with 2 Axes>"
      ]
     },
     "metadata": {
      "needs_background": "light"
     },
     "output_type": "display_data"
    }
   ],
   "source": [
    "f = plt.figure(figsize=(15,6))\n",
    "\n",
    "plt.subplot(121)\n",
    "plt.plot(range(len(L_casual[0:1000])), L_casual[0:1000], color=\"red\")\n",
    "\n",
    "plt.subplot(122)\n",
    "plt.plot(range(len(L_l2[0:1000])), L_l2[0:1000], color=\"green\")"
   ]
  },
  {
   "cell_type": "code",
   "execution_count": 8,
   "id": "ddadc6fc",
   "metadata": {
    "id": "ddadc6fc",
    "outputId": "d907e5b2-72f9-4acb-d279-2b4bab19655c"
   },
   "outputs": [
    {
     "data": {
      "image/png": "[encoded data removed]",
      "text/plain": [
       "<Figure size 864x720 with 4 Axes>"
      ]
     },
     "metadata": {
      "needs_background": "light"
     },
     "output_type": "display_data"
    }
   ],
   "source": [
    "plt.figure(figsize=(12, 10))\n",
    "C = [None, 0.01, 0.1, 10.0]\n",
    "for i in range(len(C)):\n",
    "    logistic = multiclass_logistic(C[i])\n",
    "    logistic.fit(X_train, y_train)\n",
    "    \n",
    "    eps = 0.1\n",
    "    xx, yy = np.meshgrid(np.linspace(np.min(X_train[:,0]) - eps, np.max(X_train[:,0]) + eps, 300),\n",
    "                     np.linspace(np.min(X_train[:,1]) - eps, np.max(X_train[:,1]) + eps, 300))\n",
    "    \n",
    "    preds = logistic.predict(np.stack([xx.reshape(-1), yy.reshape(-1)], axis=1))\n",
    "    \n",
    "    preds = preds.reshape(xx.shape)\n",
    "    \n",
    "    plt.subplot(221 + i)\n",
    "    plt.title('C = {}, квадрат нормы вектора весов {}'.format(C[i], (np.dot(logistic.w.flatten(), logistic.w.flatten()))))\n",
    "    \n",
    "    plt.pcolormesh(xx, yy, preds)\n",
    "    \n",
    "    plt.plot(X[:, 0][y==0], X[:, 1][y==0], 'ob')\n",
    "    plt.plot(X[:, 0][y==1], X[:, 1][y==1], 'or')\n",
    "    plt.plot(X[:, 0][y==2], X[:, 1][y==2], 'og')\n",
    "    \n",
    "plt.show()"
   ]
  },
  {
   "cell_type": "markdown",
   "id": "b12692ef",
   "metadata": {
    "id": "b12692ef"
   },
   "source": [
    "##  Сравнение модели с моделей sklearn"
   ]
  },
  {
   "cell_type": "markdown",
   "id": "31f1ab35",
   "metadata": {
    "id": "31f1ab35"
   },
   "source": [
    "Будем следить за метрикой accuracy"
   ]
  },
  {
   "cell_type": "markdown",
   "id": "00c27917",
   "metadata": {
    "id": "00c27917"
   },
   "source": [
    "Случай отсутствии регуляризации"
   ]
  },
  {
   "cell_type": "code",
   "execution_count": 9,
   "id": "e6793507",
   "metadata": {
    "id": "e6793507"
   },
   "outputs": [],
   "source": [
    "from sklearn.linear_model import LogisticRegression\n",
    "from sklearn.metrics import accuracy_score"
   ]
  },
  {
   "cell_type": "code",
   "execution_count": 10,
   "id": "abac6da4",
   "metadata": {
    "id": "abac6da4"
   },
   "outputs": [],
   "source": [
    "clf = LogisticRegression().fit(X_train, y_train)"
   ]
  },
  {
   "cell_type": "code",
   "execution_count": 11,
   "id": "68ebf0a6",
   "metadata": {
    "id": "68ebf0a6"
   },
   "outputs": [],
   "source": [
    "y_pred_sklearn = clf.predict(X_test)"
   ]
  },
  {
   "cell_type": "code",
   "execution_count": 12,
   "id": "8bf81a12",
   "metadata": {
    "id": "8bf81a12",
    "outputId": "287dc254-74e5-4592-8a0a-874b57c542e7"
   },
   "outputs": [
    {
     "name": "stdout",
     "output_type": "stream",
     "text": [
      "Значение accuracy на test-е библиотеки sklearn равна 0.9333333333333333\n"
     ]
    }
   ],
   "source": [
    "print('Значение accuracy на test-е библиотеки sklearn равна {}'.format(accuracy_score(y_test, y_pred_sklearn)))"
   ]
  },
  {
   "cell_type": "code",
   "execution_count": 13,
   "id": "8689730a",
   "metadata": {
    "id": "8689730a"
   },
   "outputs": [],
   "source": [
    "logistic = multiclass_logistic()\n",
    "logistic.fit(X_train, y_train)"
   ]
  },
  {
   "cell_type": "code",
   "execution_count": 14,
   "id": "36d86b39",
   "metadata": {
    "id": "36d86b39"
   },
   "outputs": [],
   "source": [
    "y_pred_my_log_reg = logistic.predict(X_test)"
   ]
  },
  {
   "cell_type": "code",
   "execution_count": 15,
   "id": "3c6116e4",
   "metadata": {
    "id": "3c6116e4",
    "outputId": "0a5999f4-a07a-48ce-d7c7-6a337778671b"
   },
   "outputs": [
    {
     "name": "stdout",
     "output_type": "stream",
     "text": [
      "Значение accuracy на test-е нашей модели равна 0.9\n"
     ]
    }
   ],
   "source": [
    "print('Значение accuracy на test-е нашей модели равна {}'.format(accuracy_score(y_test, y_pred_my_log_reg)))"
   ]
  },
  {
   "cell_type": "markdown",
   "id": "8f39d795",
   "metadata": {
    "id": "8f39d795"
   },
   "source": [
    "Случай регуляризации"
   ]
  },
  {
   "cell_type": "code",
   "execution_count": 16,
   "id": "b70a4a86",
   "metadata": {
    "id": "b70a4a86"
   },
   "outputs": [],
   "source": [
    "clf_l2 = LogisticRegression(C=1).fit(X_train, y_train)"
   ]
  },
  {
   "cell_type": "code",
   "execution_count": 17,
   "id": "2f17aaf0",
   "metadata": {
    "id": "2f17aaf0"
   },
   "outputs": [],
   "source": [
    "y_pred_sklearn_l2 = clf_l2.predict(X_test)"
   ]
  },
  {
   "cell_type": "code",
   "execution_count": 18,
   "id": "5865f766",
   "metadata": {
    "id": "5865f766",
    "outputId": "30341778-ae9e-4989-e70a-9bc96ee95bc7"
   },
   "outputs": [
    {
     "name": "stdout",
     "output_type": "stream",
     "text": [
      "Значение accuracy на test-е библиотеки sklearn равна 0.9333333333333333\n"
     ]
    }
   ],
   "source": [
    "print('Значение accuracy на test-е библиотеки sklearn равна {}'.format(accuracy_score(y_test, y_pred_sklearn_l2)))"
   ]
  },
  {
   "cell_type": "code",
   "execution_count": 19,
   "id": "8f544de6",
   "metadata": {
    "id": "8f544de6"
   },
   "outputs": [],
   "source": [
    "logistic_l2 = multiclass_logistic(C=1)\n",
    "logistic.fit(X_train, y_train)"
   ]
  },
  {
   "cell_type": "code",
   "execution_count": 20,
   "id": "131886c3",
   "metadata": {
    "id": "131886c3"
   },
   "outputs": [],
   "source": [
    "y_pred_my_log_reg_l2 = logistic.predict(X_test)"
   ]
  },
  {
   "cell_type": "code",
   "execution_count": 21,
   "id": "89138272",
   "metadata": {
    "id": "89138272",
    "outputId": "c284b421-b5ff-4771-ad83-a2ede7fa532b"
   },
   "outputs": [
    {
     "name": "stdout",
     "output_type": "stream",
     "text": [
      "Значение accuracy на test-е библиотеки sklearn равна 0.9333333333333333\n"
     ]
    }
   ],
   "source": [
    "print('Значение accuracy на test-е библиотеки sklearn равна {}'.format(accuracy_score(y_test, y_pred_my_log_reg_l2)))"
   ]
  },
  {
   "cell_type": "markdown",
   "id": "79696944",
   "metadata": {
    "id": "79696944"
   },
   "source": [
    "## Итог"
   ]
  },
  {
   "cell_type": "markdown",
   "id": "b7d0dd94",
   "metadata": {
    "id": "b7d0dd94"
   },
   "source": [
    "1) Была реализована многоклассовая логистическая регрессия. В качестве регуляризации использовалось L2.\n",
    "\n",
    "\n",
    "2) Оказалось, что эффект регуляризации виден на зависимости ошибки от шага итерации, области решений и значений матрицы весов. В области решений разделяющие кривые оказались прямыми из-за одинакового нормального распределения классов.\n",
    "\n",
    "3) Значение метрики accuracy нашей модели и модели sklearn оказались очень близки как в случае регуляризации, так и без него."
   ]
  },
  {
   "cell_type": "code",
   "execution_count": null,
   "id": "7fe5509a",
   "metadata": {
    "id": "7fe5509a"
   },
   "outputs": [],
   "source": []
  }
 ],
 "metadata": {
  "colab": {
   "name": "Edvard_homework_3.ipynb",
   "provenance": []
  },
  "kernelspec": {
   "display_name": "Python 3 (ipykernel)",
   "language": "python",
   "name": "python3"
  },
  "language_info": {
   "codemirror_mode": {
    "name": "ipython",
    "version": 3
   },
   "file_extension": ".py",
   "mimetype": "text/x-python",
   "name": "python",
   "nbconvert_exporter": "python",
   "pygments_lexer": "ipython3",
   "version": "3.9.5"
  }
 },
 "nbformat": 4,
 "nbformat_minor": 5
}
